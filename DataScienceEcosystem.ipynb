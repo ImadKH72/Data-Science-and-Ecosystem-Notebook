{
  "metadata": {
    "kernelspec": {
      "name": "python",
      "display_name": "Python (Pyodide)",
      "language": "python"
    },
    "language_info": {
      "codemirror_mode": {
        "name": "python",
        "version": 3
      },
      "file_extension": ".py",
      "mimetype": "text/x-python",
      "name": "python",
      "nbconvert_exporter": "python",
      "pygments_lexer": "ipython3",
      "version": "3.8"
    }
  },
  "nbformat_minor": 5,
  "nbformat": 4,
  "cells": [
    {
      "id": "9963d4df-dec6-475f-833c-651edf11fe93",
      "cell_type": "markdown",
      "source": "# Data Science Tools and Ecosystem",
      "metadata": {}
    },
    {
      "id": "43558631-9a8b-452b-b5e5-6dfbd3be94a2",
      "cell_type": "markdown",
      "source": "In this notebook, Data Science Tools and Ecosystem are summarized.",
      "metadata": {}
    },
    {
      "id": "50dd0560-0300-49af-9fbf-645a714bba2d",
      "cell_type": "markdown",
      "source": "__Objectives:__\n+ List popular languages for Data Science\n+ List common libraries used by data scientists\n+ List some Data Science Tools",
      "metadata": {}
    },
    {
      "id": "b3955f52-d62c-4f53-a053-a1307c184fb4",
      "cell_type": "markdown",
      "source": "Some of the popular languages that Data Scientists use are: \n1. Python\n2. R\n3. Julia\n4. Java",
      "metadata": {}
    },
    {
      "id": "c2d8e5a8-0e8b-4e0c-8275-b86524538dd8",
      "cell_type": "markdown",
      "source": "Some of the commonly used libraries used by data scientists include:\n1. Pandas\n2. Matplotlb\n3. Scikit-learn",
      "metadata": {}
    },
    {
      "id": "b00d6b2f-6d22-44ef-9a20-a43bd0e0ebf3",
      "cell_type": "markdown",
      "source": "|Data Science Tools|\n|------------------|\n|RStudio|\n|Jupyter Notebooks|\n|Google Collab|",
      "metadata": {}
    },
    {
      "id": "07c6407d-cd5d-47d3-a064-cb4ddeb1d1bb",
      "cell_type": "markdown",
      "source": "### Below are a few examples of evaluating arithmetic expressions in Python",
      "metadata": {}
    },
    {
      "id": "a22e7b75-7639-4b00-9e55-82444e53cb77",
      "cell_type": "code",
      "source": "#This is a simple arithmetic expression to multpily then add integers\n(3*4)+5",
      "metadata": {
        "trusted": true
      },
      "outputs": [
        {
          "execution_count": 1,
          "output_type": "execute_result",
          "data": {
            "text/plain": "17"
          },
          "metadata": {}
        }
      ],
      "execution_count": 1
    },
    {
      "id": "6991dce7-ee63-49f7-8963-7676a5f2292f",
      "cell_type": "code",
      "source": "#This will convert 200 minutes to hours by dividing by 60\n200/60",
      "metadata": {
        "trusted": true
      },
      "outputs": [
        {
          "execution_count": 2,
          "output_type": "execute_result",
          "data": {
            "text/plain": "3.3333333333333335"
          },
          "metadata": {}
        }
      ],
      "execution_count": 2
    },
    {
      "id": "ec788210-a9f5-4b76-8ee5-cfebfe20d818",
      "cell_type": "markdown",
      "source": "## Author\nImad Alkhoury",
      "metadata": {}
    },
    {
      "id": "4ddfcad9-fb01-4055-ac0a-7f26c017e4c0",
      "cell_type": "code",
      "source": "",
      "metadata": {
        "trusted": true
      },
      "outputs": [],
      "execution_count": null
    }
  ]
}